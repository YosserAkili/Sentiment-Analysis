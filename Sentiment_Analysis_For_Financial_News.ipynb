{
  "cells": [
    {
      "cell_type": "markdown",
      "metadata": {
        "id": "view-in-github",
        "colab_type": "text"
      },
      "source": [
        "<a href=\"https://colab.research.google.com/github/YosserAkili/Sentiment-Analysis/blob/main/Sentiment_Analysis_For_Financial_News.ipynb\" target=\"_parent\"><img src=\"https://colab.research.google.com/assets/colab-badge.svg\" alt=\"Open In Colab\"/></a>"
      ]
    },
    {
      "cell_type": "markdown",
      "id": "a75ba609",
      "metadata": {
        "id": "a75ba609"
      },
      "source": [
        "# Sentiment Analysis For Financial News"
      ]
    },
    {
      "cell_type": "markdown",
      "id": "368277c9",
      "metadata": {
        "id": "368277c9"
      },
      "source": [
        "# Matière : Intelligence Artificielle"
      ]
    },
    {
      "cell_type": "markdown",
      "id": "117b5240",
      "metadata": {
        "id": "117b5240"
      },
      "source": [
        "# I. Description"
      ]
    },
    {
      "cell_type": "markdown",
      "id": "2a499d07",
      "metadata": {
        "id": "2a499d07"
      },
      "source": [
        "The context of this project revolves around sentiment analysis in the financial domain using the \"FinancialPhraseBank\" dataset. This dataset has been designed to evaluate the sentiments of financial news headlines from the perspective of an individual investor. The dataset consists of two main columns:\n",
        "\n",
        "**Target Variable Sentiment (Sentiment):** This column represents the sentiment associated with each financial news headline. Sentiments can be classified into three main categories: negative, neutral, or positive. This label is assigned based on the overall opinion expressed in the headline.\n",
        "\n",
        "**News Headline:** This column contains the headlines of financial news. Each row in this column represents a specific news headline, typically drawn from financial news sources. These headlines are real examples of financial news as presented to investors.\n",
        "\n",
        "**Goal:** To leverage this data for sentiment analysis in the financial domain.\n",
        "\n",
        "This dataset provides an opportunity to better understand how financial news is perceived by individual investors, and it can have applications in investment decision-making, competitive intelligence, or financial market forecasting.\n"
      ]
    },
    {
      "cell_type": "markdown",
      "id": "0b99e4fd",
      "metadata": {
        "id": "0b99e4fd"
      },
      "source": [
        "# II. Importations"
      ]
    },
    {
      "cell_type": "code",
      "execution_count": null,
      "id": "e0b1d773",
      "metadata": {
        "execution": {
          "iopub.execute_input": "2023-10-11T15:24:14.493010Z",
          "iopub.status.busy": "2023-10-11T15:24:14.492663Z",
          "iopub.status.idle": "2023-10-11T15:24:34.243566Z",
          "shell.execute_reply": "2023-10-11T15:24:34.242475Z",
          "shell.execute_reply.started": "2023-10-11T15:24:14.492972Z"
        },
        "id": "e0b1d773",
        "outputId": "cea4d38d-f234-4bde-e0cd-56157585adfb"
      },
      "outputs": [
        {
          "name": "stdout",
          "output_type": "stream",
          "text": [
            "Requirement already satisfied: cufflinks in c:\\users\\yosr\\anaconda3\\envs\\env\\lib\\site-packages (0.17.3)\n",
            "Requirement already satisfied: colorlover>=0.2.1 in c:\\users\\yosr\\anaconda3\\envs\\env\\lib\\site-packages (from cufflinks) (0.3.0)\n",
            "Requirement already satisfied: ipython>=5.3.0 in c:\\users\\yosr\\anaconda3\\envs\\env\\lib\\site-packages (from cufflinks) (8.12.0)\n",
            "Requirement already satisfied: plotly>=4.1.1 in c:\\users\\yosr\\anaconda3\\envs\\env\\lib\\site-packages (from cufflinks) (5.17.0)\n",
            "Requirement already satisfied: numpy>=1.9.2 in c:\\users\\yosr\\anaconda3\\envs\\env\\lib\\site-packages (from cufflinks) (1.24.3)\n",
            "Requirement already satisfied: six>=1.9.0 in c:\\users\\yosr\\anaconda3\\envs\\env\\lib\\site-packages (from cufflinks) (1.16.0)\n",
            "Requirement already satisfied: ipywidgets>=7.0.0 in c:\\users\\yosr\\anaconda3\\envs\\env\\lib\\site-packages (from cufflinks) (8.1.1)\n",
            "Requirement already satisfied: setuptools>=34.4.1 in c:\\users\\yosr\\anaconda3\\envs\\env\\lib\\site-packages (from cufflinks) (66.0.0)\n",
            "Requirement already satisfied: pandas>=0.19.2 in c:\\users\\yosr\\anaconda3\\envs\\env\\lib\\site-packages (from cufflinks) (1.5.3)\n",
            "Requirement already satisfied: decorator in c:\\users\\yosr\\anaconda3\\envs\\env\\lib\\site-packages (from ipython>=5.3.0->cufflinks) (5.1.1)\n",
            "Requirement already satisfied: stack-data in c:\\users\\yosr\\anaconda3\\envs\\env\\lib\\site-packages (from ipython>=5.3.0->cufflinks) (0.2.0)\n",
            "Requirement already satisfied: typing-extensions in c:\\users\\yosr\\anaconda3\\envs\\env\\lib\\site-packages (from ipython>=5.3.0->cufflinks) (4.5.0)\n",
            "Requirement already satisfied: colorama in c:\\users\\yosr\\anaconda3\\envs\\env\\lib\\site-packages (from ipython>=5.3.0->cufflinks) (0.4.6)\n",
            "Requirement already satisfied: backcall in c:\\users\\yosr\\anaconda3\\envs\\env\\lib\\site-packages (from ipython>=5.3.0->cufflinks) (0.2.0)\n",
            "Requirement already satisfied: matplotlib-inline in c:\\users\\yosr\\anaconda3\\envs\\env\\lib\\site-packages (from ipython>=5.3.0->cufflinks) (0.1.6)\n",
            "Requirement already satisfied: pickleshare in c:\\users\\yosr\\anaconda3\\envs\\env\\lib\\site-packages (from ipython>=5.3.0->cufflinks) (0.7.5)\n",
            "Requirement already satisfied: prompt-toolkit!=3.0.37,<3.1.0,>=3.0.30 in c:\\users\\yosr\\anaconda3\\envs\\env\\lib\\site-packages (from ipython>=5.3.0->cufflinks) (3.0.36)\n",
            "Requirement already satisfied: traitlets>=5 in c:\\users\\yosr\\anaconda3\\envs\\env\\lib\\site-packages (from ipython>=5.3.0->cufflinks) (5.7.1)\n",
            "Requirement already satisfied: jedi>=0.16 in c:\\users\\yosr\\anaconda3\\envs\\env\\lib\\site-packages (from ipython>=5.3.0->cufflinks) (0.18.1)\n",
            "Requirement already satisfied: pygments>=2.4.0 in c:\\users\\yosr\\anaconda3\\envs\\env\\lib\\site-packages (from ipython>=5.3.0->cufflinks) (2.16.1)\n",
            "Requirement already satisfied: widgetsnbextension~=4.0.9 in c:\\users\\yosr\\anaconda3\\envs\\env\\lib\\site-packages (from ipywidgets>=7.0.0->cufflinks) (4.0.9)\n",
            "Requirement already satisfied: comm>=0.1.3 in c:\\users\\yosr\\anaconda3\\envs\\env\\lib\\site-packages (from ipywidgets>=7.0.0->cufflinks) (0.1.4)\n",
            "Requirement already satisfied: jupyterlab-widgets~=3.0.9 in c:\\users\\yosr\\anaconda3\\envs\\env\\lib\\site-packages (from ipywidgets>=7.0.0->cufflinks) (3.0.9)\n",
            "Requirement already satisfied: pytz>=2020.1 in c:\\users\\yosr\\anaconda3\\envs\\env\\lib\\site-packages (from pandas>=0.19.2->cufflinks) (2022.7)\n",
            "Requirement already satisfied: python-dateutil>=2.8.1 in c:\\users\\yosr\\anaconda3\\envs\\env\\lib\\site-packages (from pandas>=0.19.2->cufflinks) (2.8.2)\n",
            "Requirement already satisfied: tenacity>=6.2.0 in c:\\users\\yosr\\anaconda3\\envs\\env\\lib\\site-packages (from plotly>=4.1.1->cufflinks) (8.2.3)\n",
            "Requirement already satisfied: packaging in c:\\users\\yosr\\anaconda3\\envs\\env\\lib\\site-packages (from plotly>=4.1.1->cufflinks) (23.0)\n",
            "Requirement already satisfied: parso<0.9.0,>=0.8.0 in c:\\users\\yosr\\anaconda3\\envs\\env\\lib\\site-packages (from jedi>=0.16->ipython>=5.3.0->cufflinks) (0.8.3)\n",
            "Requirement already satisfied: wcwidth in c:\\users\\yosr\\anaconda3\\envs\\env\\lib\\site-packages (from prompt-toolkit!=3.0.37,<3.1.0,>=3.0.30->ipython>=5.3.0->cufflinks) (0.2.5)\n",
            "Requirement already satisfied: asttokens in c:\\users\\yosr\\anaconda3\\envs\\env\\lib\\site-packages (from stack-data->ipython>=5.3.0->cufflinks) (2.0.5)\n",
            "Requirement already satisfied: pure-eval in c:\\users\\yosr\\anaconda3\\envs\\env\\lib\\site-packages (from stack-data->ipython>=5.3.0->cufflinks) (0.2.2)\n",
            "Requirement already satisfied: executing in c:\\users\\yosr\\anaconda3\\envs\\env\\lib\\site-packages (from stack-data->ipython>=5.3.0->cufflinks) (0.8.3)\n"
          ]
        },
        {
          "data": {
            "text/html": [
              "        <script type=\"text/javascript\">\n",
              "        window.PlotlyConfig = {MathJaxConfig: 'local'};\n",
              "        if (window.MathJax && window.MathJax.Hub && window.MathJax.Hub.Config) {window.MathJax.Hub.Config({SVG: {font: \"STIX-Web\"}});}\n",
              "        if (typeof require !== 'undefined') {\n",
              "        require.undef(\"plotly\");\n",
              "        requirejs.config({\n",
              "            paths: {\n",
              "                'plotly': ['https://cdn.plot.ly/plotly-2.26.0.min']\n",
              "            }\n",
              "        });\n",
              "        require(['plotly'], function(Plotly) {\n",
              "            window._Plotly = Plotly;\n",
              "        });\n",
              "        }\n",
              "        </script>\n",
              "        "
            ]
          },
          "metadata": {},
          "output_type": "display_data"
        },
        {
          "name": "stderr",
          "output_type": "stream",
          "text": [
            "[nltk_data] Downloading package punkt to\n",
            "[nltk_data]     C:\\Users\\Yosr\\AppData\\Roaming\\nltk_data...\n",
            "[nltk_data]   Package punkt is already up-to-date!\n",
            "[nltk_data] Downloading package stopwords to\n",
            "[nltk_data]     C:\\Users\\Yosr\\AppData\\Roaming\\nltk_data...\n",
            "[nltk_data]   Package stopwords is already up-to-date!\n",
            "[nltk_data] Downloading package wordnet to\n",
            "[nltk_data]     C:\\Users\\Yosr\\AppData\\Roaming\\nltk_data...\n",
            "[nltk_data]   Package wordnet is already up-to-date!\n"
          ]
        }
      ],
      "source": [
        "import pandas as pd\n",
        "import numpy as np\n",
        "!pip install cufflinks\n",
        "import matplotlib.pyplot as plt\n",
        "%matplotlib inline\n",
        "import seaborn as sns\n",
        "\n",
        "from sklearn.feature_extraction.text import CountVectorizer\n",
        "\n",
        "from sklearn.neighbors import KNeighborsClassifier\n",
        "from sklearn.tree import DecisionTreeClassifier\n",
        "from sklearn.ensemble import RandomForestClassifier\n",
        "from sklearn.linear_model import LogisticRegression\n",
        "from sklearn.naive_bayes import MultinomialNB\n",
        "from sklearn.model_selection import train_test_split\n",
        "from sklearn.metrics import accuracy_score,precision_score,recall_score,f1_score, f1_score,confusion_matrix\n",
        "import nltk\n",
        "from nltk.corpus import stopwords\n",
        "from nltk.tokenize import word_tokenize\n",
        "from nltk.stem import WordNetLemmatizer\n",
        "import re\n",
        "from sklearn.preprocessing  import LabelEncoder\n",
        "le = LabelEncoder()\n",
        "import warnings\n",
        "warnings.filterwarnings(\"ignore\")\n",
        "import missingno as miss\n",
        "from collections import Counter\n",
        "import plotly.express as px\n",
        "from plotly.offline import iplot\n",
        "import cufflinks as cf\n",
        "cf.go_offline()\n",
        "from tqdm import tqdm\n",
        "from textblob import TextBlob\n",
        "from tensorflow.keras.preprocessing.text import Tokenizer\n",
        "from tensorflow.keras.preprocessing.sequence import pad_sequences\n",
        "from tensorflow.keras.layers import Dense, Input, LSTM, Embedding, Dropout, Activation, SpatialDropout1D, MaxPooling1D, Conv1D, Concatenate, Bidirectional, GlobalMaxPool1D, ActivityRegularization, BatchNormalization\n",
        "from tensorflow.keras.models import Model\n",
        "from tensorflow.keras.callbacks import ModelCheckpoint, ReduceLROnPlateau\n",
        "\n",
        "# Download NLTK data (if not already downloaded)\n",
        "nltk.download('punkt')\n",
        "nltk.download('stopwords')\n",
        "nltk.download('wordnet')\n",
        "import tensorflow as tf"
      ]
    },
    {
      "cell_type": "markdown",
      "id": "a90b2380",
      "metadata": {
        "id": "a90b2380"
      },
      "source": [
        "# II. Database:"
      ]
    },
    {
      "cell_type": "code",
      "execution_count": null,
      "id": "54e193dc",
      "metadata": {
        "execution": {
          "iopub.execute_input": "2023-10-11T15:24:34.245731Z",
          "iopub.status.busy": "2023-10-11T15:24:34.245194Z",
          "iopub.status.idle": "2023-10-11T15:24:34.286919Z",
          "shell.execute_reply": "2023-10-11T15:24:34.286133Z",
          "shell.execute_reply.started": "2023-10-11T15:24:34.245707Z"
        },
        "id": "54e193dc"
      },
      "outputs": [],
      "source": [
        "with open(\"all-data.csv\", 'rb') as file:\n",
        "    text = file.read().decode('utf-8', 'ignore')\n",
        "with open(\"decoded-all-data.csv\", 'w', encoding='utf-8') as decoded_file:\n",
        "    decoded_file.write(text)\n"
      ]
    },
    {
      "cell_type": "code",
      "execution_count": null,
      "id": "2e22ea9c",
      "metadata": {
        "execution": {
          "iopub.execute_input": "2023-10-11T15:24:34.290342Z",
          "iopub.status.busy": "2023-10-11T15:24:34.288044Z",
          "iopub.status.idle": "2023-10-11T15:24:34.321918Z",
          "shell.execute_reply": "2023-10-11T15:24:34.321044Z",
          "shell.execute_reply.started": "2023-10-11T15:24:34.290311Z"
        },
        "id": "2e22ea9c",
        "outputId": "90abddec-c9d6-4713-f205-0a3a60cf7776"
      },
      "outputs": [
        {
          "data": {
            "text/html": [
              "<div>\n",
              "<style scoped>\n",
              "    .dataframe tbody tr th:only-of-type {\n",
              "        vertical-align: middle;\n",
              "    }\n",
              "\n",
              "    .dataframe tbody tr th {\n",
              "        vertical-align: top;\n",
              "    }\n",
              "\n",
              "    .dataframe thead th {\n",
              "        text-align: right;\n",
              "    }\n",
              "</style>\n",
              "<table border=\"1\" class=\"dataframe\">\n",
              "  <thead>\n",
              "    <tr style=\"text-align: right;\">\n",
              "      <th></th>\n",
              "      <th>sentiment</th>\n",
              "      <th>news_headline</th>\n",
              "    </tr>\n",
              "  </thead>\n",
              "  <tbody>\n",
              "    <tr>\n",
              "      <th>0</th>\n",
              "      <td>neutral</td>\n",
              "      <td>According to Gran , the company has no plans t...</td>\n",
              "    </tr>\n",
              "    <tr>\n",
              "      <th>1</th>\n",
              "      <td>neutral</td>\n",
              "      <td>Technopolis plans to develop in stages an area...</td>\n",
              "    </tr>\n",
              "    <tr>\n",
              "      <th>2</th>\n",
              "      <td>negative</td>\n",
              "      <td>The international electronic industry company ...</td>\n",
              "    </tr>\n",
              "    <tr>\n",
              "      <th>3</th>\n",
              "      <td>positive</td>\n",
              "      <td>With the new production plant the company woul...</td>\n",
              "    </tr>\n",
              "    <tr>\n",
              "      <th>4</th>\n",
              "      <td>positive</td>\n",
              "      <td>According to the company 's updated strategy f...</td>\n",
              "    </tr>\n",
              "    <tr>\n",
              "      <th>...</th>\n",
              "      <td>...</td>\n",
              "      <td>...</td>\n",
              "    </tr>\n",
              "    <tr>\n",
              "      <th>4841</th>\n",
              "      <td>negative</td>\n",
              "      <td>LONDON MarketWatch -- Share prices ended lower...</td>\n",
              "    </tr>\n",
              "    <tr>\n",
              "      <th>4842</th>\n",
              "      <td>neutral</td>\n",
              "      <td>Rinkuskiai 's beer sales fell by 6.5 per cent ...</td>\n",
              "    </tr>\n",
              "    <tr>\n",
              "      <th>4843</th>\n",
              "      <td>negative</td>\n",
              "      <td>Operating profit fell to EUR 35.4 mn from EUR ...</td>\n",
              "    </tr>\n",
              "    <tr>\n",
              "      <th>4844</th>\n",
              "      <td>negative</td>\n",
              "      <td>Net sales of the Paper segment decreased to EU...</td>\n",
              "    </tr>\n",
              "    <tr>\n",
              "      <th>4845</th>\n",
              "      <td>negative</td>\n",
              "      <td>Sales in Finland decreased by 10.5 % in Januar...</td>\n",
              "    </tr>\n",
              "  </tbody>\n",
              "</table>\n",
              "<p>4846 rows × 2 columns</p>\n",
              "</div>"
            ],
            "text/plain": [
              "     sentiment                                      news_headline\n",
              "0      neutral  According to Gran , the company has no plans t...\n",
              "1      neutral  Technopolis plans to develop in stages an area...\n",
              "2     negative  The international electronic industry company ...\n",
              "3     positive  With the new production plant the company woul...\n",
              "4     positive  According to the company 's updated strategy f...\n",
              "...        ...                                                ...\n",
              "4841  negative  LONDON MarketWatch -- Share prices ended lower...\n",
              "4842   neutral  Rinkuskiai 's beer sales fell by 6.5 per cent ...\n",
              "4843  negative  Operating profit fell to EUR 35.4 mn from EUR ...\n",
              "4844  negative  Net sales of the Paper segment decreased to EU...\n",
              "4845  negative  Sales in Finland decreased by 10.5 % in Januar...\n",
              "\n",
              "[4846 rows x 2 columns]"
            ]
          },
          "execution_count": 335,
          "metadata": {},
          "output_type": "execute_result"
        }
      ],
      "source": [
        "df = pd.read_csv(\"decoded-all-data.csv\", names=[\"sentiment\",\"news_headline\"],encoding=\"utf-8\")\n",
        "\n",
        "df"
      ]
    },
    {
      "cell_type": "markdown",
      "id": "a592926d",
      "metadata": {
        "id": "a592926d"
      },
      "source": [
        "# IV. EDA"
      ]
    },
    {
      "cell_type": "code",
      "execution_count": null,
      "id": "4f04443b",
      "metadata": {
        "execution": {
          "iopub.execute_input": "2023-10-11T15:24:34.325192Z",
          "iopub.status.busy": "2023-10-11T15:24:34.324929Z",
          "iopub.status.idle": "2023-10-11T15:24:34.346056Z",
          "shell.execute_reply": "2023-10-11T15:24:34.345171Z",
          "shell.execute_reply.started": "2023-10-11T15:24:34.325172Z"
        },
        "id": "4f04443b",
        "outputId": "08550edd-d06d-4825-cef4-4df8e6e512e9"
      },
      "outputs": [
        {
          "name": "stdout",
          "output_type": "stream",
          "text": [
            "<class 'pandas.core.frame.DataFrame'>\n",
            "RangeIndex: 4846 entries, 0 to 4845\n",
            "Data columns (total 2 columns):\n",
            " #   Column         Non-Null Count  Dtype \n",
            "---  ------         --------------  ----- \n",
            " 0   sentiment      4846 non-null   object\n",
            " 1   news_headline  4846 non-null   object\n",
            "dtypes: object(2)\n",
            "memory usage: 75.8+ KB\n"
          ]
        }
      ],
      "source": [
        "df.info()"
      ]
    },
    {
      "cell_type": "code",
      "execution_count": null,
      "id": "2bcb0aaa",
      "metadata": {
        "execution": {
          "iopub.execute_input": "2023-10-11T15:24:34.348406Z",
          "iopub.status.busy": "2023-10-11T15:24:34.347290Z",
          "iopub.status.idle": "2023-10-11T15:24:34.586056Z",
          "shell.execute_reply": "2023-10-11T15:24:34.585463Z",
          "shell.execute_reply.started": "2023-10-11T15:24:34.348376Z"
        },
        "id": "2bcb0aaa",
        "outputId": "06117e49-28a5-45db-8502-d20e58bf6d86"
      },
      "outputs": [
        {
          "data": {
            "text/plain": [
              "<Axes: >"
            ]
          },
          "execution_count": 5,
          "metadata": {},
          "output_type": "execute_result"
        },
        {
          "data": {
            "image/png": "[encoded data removed]",
            "text/plain": [
              "<Figure size 640x480 with 1 Axes>"
            ]
          },
          "metadata": {},
          "output_type": "display_data"
        }
      ],
      "source": [
        "df['sentiment'].value_counts().plot(kind='bar')"
      ]
    },
    {
      "cell_type": "code",
      "execution_count": null,
      "id": "caf85c64",
      "metadata": {
        "execution": {
          "iopub.execute_input": "2023-10-11T15:24:34.588348Z",
          "iopub.status.busy": "2023-10-11T15:24:34.587184Z",
          "iopub.status.idle": "2023-10-11T15:24:34.702764Z",
          "shell.execute_reply": "2023-10-11T15:24:34.701531Z",
          "shell.execute_reply.started": "2023-10-11T15:24:34.588317Z"
        },
        "id": "caf85c64",
        "outputId": "4fd47225-64e2-45f3-9c15-95f3a4240bb9"
      },
      "outputs": [
        {
          "data": {
            "text/plain": [
              "<Axes: ylabel='sentiment'>"
            ]
          },
          "execution_count": 6,
          "metadata": {},
          "output_type": "execute_result"
        },
        {
          "data": {
            "image/png": "[encoded data removed]",
            "text/plain": [
              "<Figure size 640x480 with 1 Axes>"
            ]
          },
          "metadata": {},
          "output_type": "display_data"
        }
      ],
      "source": [
        "df['sentiment'].value_counts().plot(kind='pie')"
      ]
    },
    {
      "cell_type": "markdown",
      "id": "c559f516",
      "metadata": {
        "id": "c559f516"
      },
      "source": [
        "# V. Pre-processing:"
      ]
    },
    {
      "cell_type": "markdown",
      "id": "b738260e",
      "metadata": {
        "id": "b738260e"
      },
      "source": [
        "This Python function takes a list of texts as input and returns tokenized word sequences after performing preprocessing steps such as converting to lowercase, removing special characters and numbers, eliminating stopwords, and lemmatization."
      ]
    },
    {
      "cell_type": "code",
      "execution_count": null,
      "id": "b274f541",
      "metadata": {
        "execution": {
          "iopub.execute_input": "2023-10-11T15:25:48.799019Z",
          "iopub.status.busy": "2023-10-11T15:25:48.798701Z",
          "iopub.status.idle": "2023-10-11T15:25:48.805884Z",
          "shell.execute_reply": "2023-10-11T15:25:48.804988Z",
          "shell.execute_reply.started": "2023-10-11T15:25:48.798995Z"
        },
        "id": "b274f541"
      },
      "outputs": [],
      "source": [
        "from nltk.stem.wordnet import WordNetLemmatizer\n",
        "\n",
        "\n",
        "def get_sequences(text):\n",
        "    # Create a tokenizer object\n",
        "    text = [t.lower() for t in text]\n",
        "\n",
        "    # Remove special characters and digits\n",
        "    for i in range(len(text)):\n",
        "        text[i] = re.sub(r'[^a-zA-Z\\s]', '', text[i])\n",
        "        #Cette boucle parcourt chaque texte dans la liste et utilise une expression\n",
        "        #régulière (re.sub) pour supprimer tous les caractères spéciaux et les chiffres, ne laissant que les lettres et\n",
        "        #les espaces.\n",
        "        # Cette partie utilise la bibliothèque NLTK pour supprimer les mots d'arrêt (stopwords) de chaque texte,\n",
        "        #ce qui permet de réduire le bruit inutile dans le texte.\n",
        "    stop_words = set(stopwords.words('english'))\n",
        "    text = [word for word in text if not word in stop_words]\n",
        "    lemmatizer = WordNetLemmatizer()\n",
        "\n",
        "    # réduction d'un mot à sa forme de base en gardant le sens\n",
        "    lemmatized_sequences = [[lemmatizer.lemmatize(word) for word in word_tokenize(sentence)] for sentence in text]\n",
        "\n",
        "    #Ces lignes créent un objet Tokenizer de Keras, qui convertira les mots en nombres.\n",
        "    #Ensuite, la méthode fit_on_texts est utilisée pour ajuster le tokenizer aux séquences lemmatisées,\n",
        "    #ce qui crée un mapping de mots à des entiers.\n",
        "    tokenizer = Tokenizer()\n",
        "\n",
        "    # Fit the tokenizer on text to convert words into numbers\n",
        "    tokenizer.fit_on_texts(lemmatized_sequences)\n",
        "        # Get the word-to-number mapping\n",
        "        #le mapping est basé sur l'occurrence des mots dans le corpus de textes que j'utilise pour l'ajuster.\n",
        "    sequences = tokenizer.texts_to_sequences(lemmatized_sequences)\n",
        "\n",
        "\n",
        "\n",
        "\n",
        "    # Cette ligne calcule la longueur maximale de toutes les séquences en prenant la séquence la plus longue.\n",
        "    max_sequence_length = np.max(list(map(lambda x: len(x), sequences)))\n",
        "\n",
        "    #Enfin, cette partie utilise la fonction pad_sequences de Keras pour ajouter du rembourrage (zéros) à la fin de\n",
        "    #chaque séquence, de manière à ce que toutes les séquences aient la même longueur\n",
        "    sequences = pad_sequences(sequences, maxlen=max_sequence_length, padding='post')\n",
        "    print(max_sequence_length)\n",
        "    return sequences"
      ]
    },
    {
      "cell_type": "markdown",
      "id": "66ac967e",
      "metadata": {
        "id": "66ac967e"
      },
      "source": [
        "This function is useful for preparing data for training machine learning models for sentiment classification of financial news headlines. It helps split the data into a training set and a test set, and preprocesses them to make them compatible with deep learning models.\n",
        "\n",
        "\n",
        "\n",
        "\n",
        "\n"
      ]
    },
    {
      "cell_type": "code",
      "execution_count": null,
      "id": "165eda9d",
      "metadata": {
        "execution": {
          "iopub.execute_input": "2023-10-11T15:25:54.700276Z",
          "iopub.status.busy": "2023-10-11T15:25:54.699907Z",
          "iopub.status.idle": "2023-10-11T15:25:54.706036Z",
          "shell.execute_reply": "2023-10-11T15:25:54.705169Z",
          "shell.execute_reply.started": "2023-10-11T15:25:54.700249Z"
        },
        "id": "165eda9d"
      },
      "outputs": [],
      "source": [
        "def preprocess_inputs(df):\n",
        "    df = df.copy()\n",
        "    sequences = get_sequences(df['news_headline'])\n",
        "\n",
        "    label_mapping = {\n",
        "        'negative': 0,\n",
        "        'neutral': 1,\n",
        "        'positive': 2\n",
        "    }\n",
        "\n",
        "    y = df['sentiment'].replace(label_mapping)\n",
        "\n",
        "    train_sequences, test_sequences, y_train, y_test = train_test_split(sequences, y, train_size=0.8, shuffle=True, random_state=42)\n",
        "\n",
        "    return train_sequences, test_sequences, y_train, y_test\n"
      ]
    },
    {
      "cell_type": "code",
      "execution_count": null,
      "id": "aea63b2e",
      "metadata": {
        "execution": {
          "iopub.execute_input": "2023-10-11T15:26:00.845250Z",
          "iopub.status.busy": "2023-10-11T15:26:00.844860Z",
          "iopub.status.idle": "2023-10-11T15:26:01.177326Z",
          "shell.execute_reply": "2023-10-11T15:26:01.175942Z",
          "shell.execute_reply.started": "2023-10-11T15:26:00.845223Z"
        },
        "id": "aea63b2e",
        "outputId": "ea43a213-8c62-4fc1-f58e-e2e69bb253d7"
      },
      "outputs": [
        {
          "name": "stdout",
          "output_type": "stream",
          "text": [
            "50\n"
          ]
        }
      ],
      "source": [
        "train_sequences, test_sequences, y_train, y_test=preprocess_inputs(df)"
      ]
    },
    {
      "cell_type": "code",
      "execution_count": null,
      "id": "99fc6bf7",
      "metadata": {
        "execution": {
          "iopub.status.busy": "2023-10-11T15:24:35.870705Z",
          "iopub.status.idle": "2023-10-11T15:24:35.873083Z",
          "shell.execute_reply": "2023-10-11T15:24:35.872927Z",
          "shell.execute_reply.started": "2023-10-11T15:24:35.872911Z"
        },
        "id": "99fc6bf7",
        "outputId": "5824311c-304e-4492-9d91-0efaea3488a3"
      },
      "outputs": [
        {
          "data": {
            "text/plain": [
              "array([[  3, 126, 691, ...,   0,   0,   0],\n",
              "       [243, 507, 584, ...,   0,   0,   0],\n",
              "       [  1,  11, 240, ...,   0,   0,   0],\n",
              "       ...,\n",
              "       [ 52, 238, 265, ...,   0,   0,   0],\n",
              "       [  1, 624,  12, ...,   0,   0,   0],\n",
              "       [462, 166, 840, ...,   0,   0,   0]])"
            ]
          },
          "execution_count": 172,
          "metadata": {},
          "output_type": "execute_result"
        }
      ],
      "source": [
        "train_sequences"
      ]
    },
    {
      "cell_type": "code",
      "execution_count": null,
      "id": "9d4b06de",
      "metadata": {
        "execution": {
          "iopub.status.busy": "2023-10-11T15:24:35.874273Z",
          "iopub.status.idle": "2023-10-11T15:24:35.875057Z",
          "shell.execute_reply": "2023-10-11T15:24:35.874913Z",
          "shell.execute_reply.started": "2023-10-11T15:24:35.874897Z"
        },
        "id": "9d4b06de",
        "outputId": "921ee221-16c6-47fd-efec-c9e7db7111f7"
      },
      "outputs": [
        {
          "data": {
            "text/plain": [
              "array([[   1,   11,   30, ...,    0,    0,    0],\n",
              "       [5783, 5784,  118, ...,    0,    0,    0],\n",
              "       [   3, 2226, 1712, ...,    0,    0,    0],\n",
              "       ...,\n",
              "       [1286,  292,   13, ...,    0,    0,    0],\n",
              "       [ 878,  234,   78, ...,    0,    0,    0],\n",
              "       [ 644,  113,  252, ...,    0,    0,    0]])"
            ]
          },
          "execution_count": 173,
          "metadata": {},
          "output_type": "execute_result"
        }
      ],
      "source": [
        "test_sequences"
      ]
    },
    {
      "cell_type": "code",
      "execution_count": null,
      "id": "50f2f1ad",
      "metadata": {
        "execution": {
          "iopub.status.busy": "2023-10-11T15:24:35.876860Z",
          "iopub.status.idle": "2023-10-11T15:24:35.877489Z",
          "shell.execute_reply": "2023-10-11T15:24:35.877300Z",
          "shell.execute_reply.started": "2023-10-11T15:24:35.877280Z"
        },
        "id": "50f2f1ad",
        "outputId": "f8102491-8d22-44d6-9b8f-9d4af3314bc2"
      },
      "outputs": [
        {
          "data": {
            "text/plain": [
              "432     1\n",
              "3071    1\n",
              "289     2\n",
              "2588    1\n",
              "4121    1\n",
              "       ..\n",
              "4426    0\n",
              "466     2\n",
              "3092    1\n",
              "3772    1\n",
              "860     2\n",
              "Name: sentiment, Length: 3876, dtype: int64"
            ]
          },
          "execution_count": 174,
          "metadata": {},
          "output_type": "execute_result"
        }
      ],
      "source": [
        "y_train"
      ]
    },
    {
      "cell_type": "markdown",
      "id": "0f49cc2c",
      "metadata": {
        "id": "0f49cc2c"
      },
      "source": [
        "# Models"
      ]
    },
    {
      "cell_type": "markdown",
      "id": "b7a7d25a",
      "metadata": {
        "id": "b7a7d25a"
      },
      "source": [
        "## 1. RNN : GRU"
      ]
    },
    {
      "cell_type": "markdown",
      "id": "1ddb8bef",
      "metadata": {
        "id": "1ddb8bef"
      },
      "source": [
        "A Recurrent Neural Network (RNN) model is a type of artificial neural network specifically designed to handle sequential data, such as sequences of text, sound, time, etc. Unlike traditional feedforward neural networks, RNNs are designed to account for the temporal structure of data by processing sequences step by step."
      ]
    },
    {
      "cell_type": "markdown",
      "id": "b5d9ad2d",
      "metadata": {
        "id": "b5d9ad2d"
      },
      "source": [
        "The **GRU (Gated Recurrent Unit)**  is a variant of RNN designed to address gradient issues in traditional RNNs. The GRU introduces two gates, known as \"gate,\" in English, which control the flow of information within the network. These gates are as follows:\n",
        "\n",
        "Reset Gate: This gate determines which parts of the previous memory state should be forgotten or updated. It helps manage long dependencies in the sequence more effectively.\n",
        "\n",
        "Update Gate: This gate determines which parts of the current memory should be updated with new information. It allows the model to \"decide\" which information is crucial to retain."
      ]
    },
    {
      "cell_type": "markdown",
      "id": "d39c034f",
      "metadata": {
        "id": "d39c034f"
      },
      "source": [
        "**Operating:** When the Gated Recurrent Unit (GRU) processes a sequence, it considers the current input, the previous state of the memory, and the decisions made by the reset and update gates. Based on these components, the GRU updates its internal state (memory) and produces an output. This output is typically a representation of the processed sequence."
      ]
    },
    {
      "cell_type": "code",
      "execution_count": null,
      "id": "55362d26",
      "metadata": {
        "execution": {
          "iopub.status.busy": "2023-10-11T15:24:35.880376Z",
          "iopub.status.idle": "2023-10-11T15:24:35.881016Z",
          "shell.execute_reply": "2023-10-11T15:24:35.880816Z",
          "shell.execute_reply.started": "2023-10-11T15:24:35.880795Z"
        },
        "id": "55362d26",
        "outputId": "9b92c802-5ae9-4968-e489-b2eede776b88"
      },
      "outputs": [
        {
          "name": "stdout",
          "output_type": "stream",
          "text": [
            "Epoch 1/100\n",
            "97/97 [==============================] - 7s 56ms/step - loss: 0.8339 - accuracy: 0.6342 - val_loss: 0.7773 - val_accuracy: 0.6701\n",
            "Epoch 2/100\n",
            "97/97 [==============================] - 4s 46ms/step - loss: 0.4577 - accuracy: 0.8171 - val_loss: 0.6722 - val_accuracy: 0.7178\n",
            "Epoch 3/100\n",
            "97/97 [==============================] - 4s 43ms/step - loss: 0.1685 - accuracy: 0.9455 - val_loss: 0.8219 - val_accuracy: 0.7216\n",
            "Epoch 4/100\n",
            "97/97 [==============================] - 4s 43ms/step - loss: 0.0664 - accuracy: 0.9813 - val_loss: 1.2791 - val_accuracy: 0.7255\n",
            "Epoch 5/100\n",
            "97/97 [==============================] - 5s 52ms/step - loss: 0.0432 - accuracy: 0.9890 - val_loss: 1.2216 - val_accuracy: 0.7229\n"
          ]
        }
      ],
      "source": [
        "inputs = tf.keras.Input(shape=(train_sequences.shape[1],))\n",
        "    #Elle permet de représenter les mots sous forme de vecteurs numériques. Les mots sont associés à des vecteurs dans\n",
        "    #un espace vectoriel continu. Dans votre cas, il y a 10 123 mots différents dans le vocabulaire, et chaque mot sera\n",
        "    #représenté par un vecteur de 128 dimensions. La longueur maximale des séquences est définie par input_length.\n",
        "x = tf.keras.layers.Embedding(input_dim = 10123,\n",
        "                             output_dim = 128,\n",
        "                             input_length = train_sequences.shape[1])(inputs)\n",
        "    #Elle est capable de prendre en compte la séquence d'entrée et de mémoriser des informations précédentes grâce à\n",
        "    #des unités récurrentes. il y a 256 unités GRU. L'activation 'tanh' (tangente hyperbolique)\n",
        "    #est utilisée pour les unités GRU. La spécification return_sequences=True signifie que cette couche renverra\n",
        "    #des séquences au lieu d'une seule valeur.\n",
        "x = tf.keras.layers.GRU(256, return_sequences =True, activation = 'tanh')(x)\n",
        "x = tf.keras.layers.Flatten()(x)\n",
        "outputs = tf.keras.layers.Dense(3, activation='softmax')(x) #obtenir des probabilités pour chaque classe.\n",
        "\n",
        "model = tf.keras.Model(inputs=inputs, outputs=outputs)\n",
        "\n",
        "model.compile(optimizer = 'adam',\n",
        "             loss = 'sparse_categorical_crossentropy',\n",
        "             metrics = ['accuracy'])\n",
        "history = model.fit(train_sequences,\n",
        "                   y_train,\n",
        "                   validation_split =  0.2,\n",
        "                   batch_size = 32,\n",
        "                   epochs = 100,\n",
        "                   callbacks = [tf.keras.callbacks.EarlyStopping(monitor = 'val_loss',\n",
        "                                                                patience = 3,\n",
        "                                                                restore_best_weights = True)])"
      ]
    },
    {
      "cell_type": "code",
      "execution_count": null,
      "id": "6a77242f",
      "metadata": {
        "execution": {
          "iopub.status.busy": "2023-10-11T15:24:35.882154Z",
          "iopub.status.idle": "2023-10-11T15:24:35.882783Z",
          "shell.execute_reply": "2023-10-11T15:24:35.882591Z",
          "shell.execute_reply.started": "2023-10-11T15:24:35.882571Z"
        },
        "id": "6a77242f",
        "outputId": "816b06a7-2402-436a-bbda-9f284b6beb8c"
      },
      "outputs": [
        {
          "name": "stdout",
          "output_type": "stream",
          "text": [
            "Test Losss: 0.62598\n",
            "Test accuracy: 74.63918%\n"
          ]
        }
      ],
      "source": [
        "results = model.evaluate(test_sequences, y_test, verbose =  0)\n",
        "\n",
        "print(\"Test Losss: {:.5f}\".format(results[0]))\n",
        "print(\"Test accuracy: {:.5f}%\".format(results[1]  * 100))"
      ]
    },
    {
      "cell_type": "markdown",
      "id": "5fbd15a6",
      "metadata": {
        "id": "5fbd15a6"
      },
      "source": [
        "## 2. LSTM"
      ]
    },
    {
      "cell_type": "markdown",
      "id": "07103867",
      "metadata": {
        "id": "07103867"
      },
      "source": [
        "LSTM, which stands for \"Long Short-Term Memory\" in English, is a type of recurrent neural network (RNN) used in deep learning. Recurrent neural networks are neural network models designed to process sequential data, where the order of elements in the sequence is important.\n",
        "\n",
        "LSTM is a special variant of RNN designed to better handle the issue of long-term dependency in sequences. Unlike traditional RNNs, which may struggle to learn long-term relationships in sequential data due to the \"vanishing gradient\" phenomenon, LSTMs have been engineered to capture these long-term dependencies more effectively.\n",
        "\n",
        "LSTMs use a cell structure with gates to regulate the flow of information through the network. These gates enable LSTMs to memorize important information over long sequences while forgetting less important information. Key components of an LSTM cell include:\n",
        "\n",
        "Cell State: This is the long-term memory of the cell. It can retain important information throughout the sequence.\n",
        "\n",
        "Hidden State: This is the cell's output at a given moment, which may contain useful information for the task at that time.\n",
        "\n",
        "Gates: Gates are mechanisms that control the flow of information into and out of the cell. There are three types of gates in an LSTM cell:\n",
        "\n",
        "* Forget Gate: Controls what should be forgotten or retained in the cell's memory.\n",
        "* Input Gate: Controls the information to be added to the cell's memory.\n",
        "* Output Gate: Controls the cell's output at a given moment."
      ]
    },
    {
      "cell_type": "code",
      "execution_count": null,
      "id": "902b730f",
      "metadata": {
        "execution": {
          "iopub.status.busy": "2023-10-11T15:24:35.894473Z",
          "iopub.status.idle": "2023-10-11T15:24:35.895093Z",
          "shell.execute_reply": "2023-10-11T15:24:35.894900Z",
          "shell.execute_reply.started": "2023-10-11T15:24:35.894880Z"
        },
        "id": "902b730f"
      },
      "outputs": [],
      "source": [
        "import tensorflow as tf\n",
        "from tensorflow.keras.layers import Embedding, LSTM, Bidirectional, Flatten, Dropout, Dense\n",
        "from tensorflow.keras.models import Sequential\n",
        "from tensorflow.keras.callbacks import EarlyStopping"
      ]
    },
    {
      "cell_type": "markdown",
      "id": "4b342b31",
      "metadata": {
        "id": "4b342b31"
      },
      "source": [
        "* The model is defined using the Sequential API of Keras.\n",
        "* It is compiled with the Adam optimizer, the \"sparse_categorical_crossentropy\" loss function (suitable for multiclass classification), and the accuracy metric.\n",
        "* An early stopping callback is employed to monitor the loss on the validation set and halt training if the loss does not improve for a certain number of epochs (defined by patience).\n",
        "* The model is then trained on the training data with a batch size of 64, for a maximum of 100 epochs.\n",
        "* Finally, the model is evaluated on the test data, and the model's accuracy on the test set is displayed."
      ]
    },
    {
      "cell_type": "code",
      "execution_count": null,
      "id": "29da55f5",
      "metadata": {
        "execution": {
          "iopub.status.busy": "2023-10-11T15:24:35.896283Z",
          "iopub.status.idle": "2023-10-11T15:24:35.896902Z",
          "shell.execute_reply": "2023-10-11T15:24:35.896709Z",
          "shell.execute_reply.started": "2023-10-11T15:24:35.896689Z"
        },
        "id": "29da55f5",
        "outputId": "8bcb66fa-19f0-4f28-9f4a-0deb347d7f2b"
      },
      "outputs": [
        {
          "name": "stdout",
          "output_type": "stream",
          "text": [
            "Epoch 1/100\n",
            "49/49 [==============================] - 28s 373ms/step - loss: 7.6141 - accuracy: 0.5894 - val_loss: 2.3114 - val_accuracy: 0.6366\n",
            "Epoch 2/100\n",
            "49/49 [==============================] - 15s 300ms/step - loss: 1.2098 - accuracy: 0.7155 - val_loss: 0.9001 - val_accuracy: 0.6817\n",
            "Epoch 3/100\n",
            "49/49 [==============================] - 15s 315ms/step - loss: 0.5509 - accuracy: 0.8016 - val_loss: 0.9789 - val_accuracy: 0.6740\n",
            "Epoch 4/100\n",
            "49/49 [==============================] - 15s 298ms/step - loss: 0.4332 - accuracy: 0.8394 - val_loss: 1.0270 - val_accuracy: 0.6662\n",
            "Epoch 5/100\n",
            "49/49 [==============================] - 15s 297ms/step - loss: 0.3762 - accuracy: 0.8552 - val_loss: 1.0868 - val_accuracy: 0.6314\n",
            "Epoch 6/100\n",
            "49/49 [==============================] - 17s 340ms/step - loss: 0.3494 - accuracy: 0.8610 - val_loss: 1.3232 - val_accuracy: 0.6469\n",
            "Epoch 7/100\n",
            "49/49 [==============================] - 17s 340ms/step - loss: 0.3253 - accuracy: 0.8797 - val_loss: 1.3667 - val_accuracy: 0.5825\n",
            "Epoch 8/100\n",
            "49/49 [==============================] - 17s 339ms/step - loss: 0.2932 - accuracy: 0.9003 - val_loss: 1.3761 - val_accuracy: 0.5954\n",
            "Epoch 9/100\n",
            "49/49 [==============================] - 17s 340ms/step - loss: 0.2919 - accuracy: 0.9077 - val_loss: 1.6956 - val_accuracy: 0.6327\n",
            "Epoch 10/100\n",
            "49/49 [==============================] - 17s 340ms/step - loss: 0.2626 - accuracy: 0.9239 - val_loss: 1.8638 - val_accuracy: 0.5619\n",
            "Epoch 11/100\n",
            "49/49 [==============================] - 17s 340ms/step - loss: 0.2429 - accuracy: 0.9287 - val_loss: 1.6440 - val_accuracy: 0.6121\n",
            "Epoch 12/100\n",
            "49/49 [==============================] - 17s 342ms/step - loss: 0.2160 - accuracy: 0.9448 - val_loss: 1.9995 - val_accuracy: 0.6340\n",
            "31/31 [==============================] - 2s 54ms/step - loss: 0.8545 - accuracy: 0.7000\n",
            "Test Accuracy: 70.00%\n"
          ]
        }
      ],
      "source": [
        "model1 = Sequential([\n",
        "\n",
        "    Embedding(input_dim=10123, output_dim=128, input_length=train_sequences.shape[1]),\n",
        "\n",
        "    Bidirectional(LSTM(256, return_sequences=True, activation='tanh', kernel_regularizer=tf.keras.regularizers.l2(0.01))),\n",
        "    Dropout(0.5),\n",
        "    Bidirectional(LSTM(128, return_sequences=True, activation='tanh', kernel_regularizer=tf.keras.regularizers.l2(0.01))),\n",
        "    Flatten(),\n",
        "    Dense(128, activation='relu', kernel_regularizer=tf.keras.regularizers.l2(0.01)),\n",
        "    Dropout(0.5),\n",
        "    Dense(3, activation='softmax')\n",
        "])\n",
        "\n",
        "model1.compile(optimizer=tf.keras.optimizers.Adam(learning_rate=0.001),\n",
        "              loss='sparse_categorical_crossentropy',\n",
        "              metrics=['accuracy'])\n",
        "\n",
        "early_stopping = EarlyStopping(monitor='val_loss', patience=10, restore_best_weights=True)\n",
        "\n",
        "history = model1.fit(train_sequences, y_train,\n",
        "                    validation_split=0.2,\n",
        "                    batch_size=64,\n",
        "                    epochs=100,\n",
        "                    callbacks=[early_stopping])\n",
        "\n",
        "test_loss, test_accuracy = model1.evaluate(test_sequences, y_test)\n",
        "print(f'Test Accuracy: {test_accuracy * 100:.2f}%')"
      ]
    },
    {
      "cell_type": "code",
      "execution_count": null,
      "id": "f1648452",
      "metadata": {
        "id": "f1648452"
      },
      "outputs": [],
      "source": [
        "from tensorflow.keras.preprocessing.sequence import pad_sequences\n",
        "import numpy as np\n",
        "\n",
        "# Votre modèle préalablement défini\n",
        "\n",
        "\n",
        "def pred(text):\n",
        "   # Tokenization\n",
        "    tokens = word_tokenize(text)\n",
        "\n",
        "    # Stop words removal\n",
        "    stop_words = set(stopwords.words('english'))\n",
        "    filtered_tokens = [word for word in tokens if word.lower() not in stop_words]\n",
        "\n",
        "    # Lemmatization\n",
        "    lemmatizer = WordNetLemmatizer()\n",
        "    lemmatized_tokens = [lemmatizer.lemmatize(word) for word in filtered_tokens]\n",
        "\n",
        "    # Convert lemmatized tokens to sequences\n",
        "    tokenizer = Tokenizer()\n",
        "    tokenizer.fit_on_texts(lemmatized_tokens)\n",
        "    sequences = tokenizer.texts_to_sequences([lemmatized_tokens])\n",
        "    sequences = np.array(sequences)\n",
        "    sequences =sequences.reshape(1, -1)\n",
        "    # Pad the sequences with the correct maximum length\n",
        "    sequences = pad_sequences(sequences, maxlen=50, padding='post')\n",
        "\n",
        "\n",
        "\n",
        "    # Faire la prédiction\n",
        "    predicted_sentiment = model.predict(sequences)\n",
        "\n",
        "    # Traduire la prédiction en une classe (positive, negative, ou neutral)\n",
        "    sentiment_mapping = {0: 'negative', 1: 'neutral', 2: 'positive'}\n",
        "    predicted_class = sentiment_mapping[np.argmax(predicted_sentiment)]\n",
        "\n",
        "    # Afficher la prédiction\n",
        "    print(\"Predicted Sentiment:\", predicted_class)\n",
        "    return predicted_class"
      ]
    },
    {
      "cell_type": "markdown",
      "id": "21c89a2c",
      "metadata": {
        "id": "21c89a2c"
      },
      "source": [
        "### neutre"
      ]
    },
    {
      "cell_type": "code",
      "execution_count": null,
      "id": "26a2d8a9",
      "metadata": {
        "id": "26a2d8a9",
        "outputId": "eeaa304e-8cb0-43cb-efff-61fcd6255f96"
      },
      "outputs": [
        {
          "name": "stdout",
          "output_type": "stream",
          "text": [
            "1/1 [==============================] - 0s 388ms/step\n",
            "Predicted Sentiment: neutral\n"
          ]
        },
        {
          "data": {
            "text/plain": [
              "'neutral'"
            ]
          },
          "execution_count": 216,
          "metadata": {},
          "output_type": "execute_result"
        }
      ],
      "source": [
        "pred( \"According to Gran , the company has no plans to move all production to Russia , although that is where the company is growing .\")"
      ]
    },
    {
      "cell_type": "markdown",
      "id": "f709f00a",
      "metadata": {
        "id": "f709f00a"
      },
      "source": [
        "### Positive"
      ]
    },
    {
      "cell_type": "code",
      "execution_count": null,
      "id": "b627b5db",
      "metadata": {
        "id": "b627b5db",
        "outputId": "7800bc80-ee47-45fa-f73a-6190b07dc64e"
      },
      "outputs": [
        {
          "name": "stdout",
          "output_type": "stream",
          "text": [
            "1/1 [==============================] - 0s 43ms/step\n",
            "Predicted Sentiment: positive\n"
          ]
        },
        {
          "data": {
            "text/plain": [
              "'positive'"
            ]
          },
          "execution_count": 413,
          "metadata": {},
          "output_type": "execute_result"
        }
      ],
      "source": [
        "pred(\"According to the company 's updated strategy for the years 2009-2012 , Basware targets a long-term net sales growth in the range of 20 % -40 % with an operating profit margin of 10 % -20 % of net sales .\")"
      ]
    },
    {
      "cell_type": "markdown",
      "id": "6fa4f18c",
      "metadata": {
        "id": "6fa4f18c"
      },
      "source": [
        "### Négative"
      ]
    },
    {
      "cell_type": "code",
      "execution_count": null,
      "id": "e464b597",
      "metadata": {
        "id": "e464b597",
        "outputId": "df2f3673-3878-45a0-daa4-5fff9d43dd8f"
      },
      "outputs": [
        {
          "name": "stdout",
          "output_type": "stream",
          "text": [
            "1/1 [==============================] - 0s 26ms/step\n",
            "Predicted Sentiment: neutral\n"
          ]
        },
        {
          "data": {
            "text/plain": [
              "'neutral'"
            ]
          },
          "execution_count": 414,
          "metadata": {},
          "output_type": "execute_result"
        }
      ],
      "source": [
        "pred(\"McDonald's sales disappoint, as the company struggles to attract new customers.\")"
      ]
    },
    {
      "cell_type": "code",
      "execution_count": null,
      "id": "db0ec152",
      "metadata": {
        "id": "db0ec152",
        "outputId": "23b1250d-6741-4ab7-f104-09c4618dcefd"
      },
      "outputs": [
        {
          "name": "stdout",
          "output_type": "stream",
          "text": [
            "1/1 [==============================] - 0s 26ms/step\n",
            "Predicted Sentiment: neutral\n"
          ]
        },
        {
          "data": {
            "text/plain": [
              "'neutral'"
            ]
          },
          "execution_count": 415,
          "metadata": {},
          "output_type": "execute_result"
        }
      ],
      "source": [
        "pred(\"Banks report strong earnings, but investors remain cautious\")"
      ]
    },
    {
      "cell_type": "markdown",
      "id": "47d1e30e",
      "metadata": {
        "id": "47d1e30e"
      },
      "source": [
        "One can observe that the \"neutral\" class is dominant, containing almost 3000 news, while the \"positive\" class has 1500, and the \"negative\" class has 500. This result is confirmed by the prediction outcomes; the models used are unable to capture the negative class."
      ]
    }
  ],
  "metadata": {
    "kernelspec": {
      "display_name": "Python 3 (ipykernel)",
      "language": "python",
      "name": "python3"
    },
    "language_info": {
      "codemirror_mode": {
        "name": "ipython",
        "version": 3
      },
      "file_extension": ".py",
      "mimetype": "text/x-python",
      "name": "python",
      "nbconvert_exporter": "python",
      "pygments_lexer": "ipython3",
      "version": "3.8.16"
    },
    "colab": {
      "provenance": [],
      "include_colab_link": true
    }
  },
  "nbformat": 4,
  "nbformat_minor": 5
}